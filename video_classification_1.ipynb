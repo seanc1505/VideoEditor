{
 "cells": [
  {
   "cell_type": "code",
   "execution_count": null,
   "metadata": {},
   "outputs": [],
   "source": [
    "import cv2     # for capturing videos\n",
    "import math   # for mathematical operations\n",
    "import matplotlib.pyplot as plt    # for plotting the images\n",
    "# % matplotlib inline\n",
    "import pandas as pd\n",
    "from keras.preprocessing import image   # for preprocessing the images\n",
    "import numpy as np    # for mathematical operations\n",
    "from keras.utils import np_utils\n",
    "from skimage.transform import resize   # for resizing images\n",
    "from sklearn.model_selection import train_test_split\n",
    "from glob import glob\n",
    "from tqdm import tqdm"
   ]
  },
  {
   "cell_type": "code",
   "execution_count": null,
   "metadata": {},
   "outputs": [],
   "source": [
    "# open the .txt file which have names of training videos\n",
    "f = open(\"trainlist01.txt\", \"r\")\n",
    "temp = f.read()\n",
    "videos = temp.split('\\n')\n",
    "\n",
    "# creating a dataframe having video names\n",
    "train = pd.DataFrame()\n",
    "train['video_name'] = videos\n",
    "train = train[:-1]\n",
    "train.head()\n"
   ]
  },
  {
   "cell_type": "code",
   "execution_count": null,
   "metadata": {},
   "outputs": [],
   "source": [
    "# open the .txt file which have names of test videos\n",
    "f = open(\"testlist01.txt\", \"r\")\n",
    "temp = f.read()\n",
    "videos = temp.split('\\n')\n",
    "\n",
    "# creating a dataframe having video names\n",
    "test = pd.DataFrame()\n",
    "test['video_name'] = videos\n",
    "test = test[:-1]\n",
    "test.head()"
   ]
  },
  {
   "cell_type": "code",
   "execution_count": null,
   "metadata": {},
   "outputs": [],
   "source": [
    "# creating tags for training videos\n",
    "train_video_tag = []\n",
    "for i in range(train.shape[0]):\n",
    "    train_video_tag.append(train['video_name'][i].split('/')[0])\n",
    "    \n",
    "train['tag'] = train_video_tag"
   ]
  },
  {
   "cell_type": "code",
   "execution_count": null,
   "metadata": {},
   "outputs": [],
   "source": [
    "# creating tags for test videos\n",
    "test_video_tag = []\n",
    "for i in range(test.shape[0]):\n",
    "    test_video_tag.append(test['video_name'][i].split('/')[0])\n",
    "    \n",
    "test['tag'] = test_video_tag"
   ]
  },
  {
   "cell_type": "code",
   "execution_count": null,
   "metadata": {},
   "outputs": [],
   "source": [
    "# storing the frames from training videos\n",
    "for i in tqdm(range(train.shape[0])):\n",
    "    count = 0\n",
    "    videoFile = train['video_name'][i]\n",
    "    cap = cv2.VideoCapture(videoFile)   # capturing the video from the given path\n",
    "    frameRate = cap.get(5) #frame rate\n",
    "    x=1\n",
    "    while(cap.isOpened()):\n",
    "        frameId = cap.get(1) #current frame number\n",
    "        ret, frame = cap.read()\n",
    "        if (ret != True):\n",
    "            break\n",
    "        if (frameId % math.floor(frameRate) == 0):\n",
    "            # storing the frames in a new folder named train_1\n",
    "            filename ='train_1/' + videoFile +\"_frame%d.jpg\" % count;count+=1\n",
    "            cv2.imwrite(filename, frame)\n",
    "    cap.release()"
   ]
  },
  {
   "cell_type": "code",
   "execution_count": null,
   "metadata": {},
   "outputs": [],
   "source": [
    "\n",
    "for i in tqdm(range(train.shape[0])):\n",
    "    videoFile = train['video_name'][i]\n",
    "    vidcap = cv2.VideoCapture(videoFile)\n",
    "    success,image = vidcap.read()\n",
    "    count = 0\n",
    "    while success:\n",
    "        filename ='train_1/' + videoFile +\"_frame%d.jpg\" % count\n",
    "        cv2.imwrite(filename, image) \n",
    "        success,image = vidcap.read()\n",
    "        count += 1\n",
    "    vidcap.release()"
   ]
  },
  {
   "cell_type": "code",
   "execution_count": null,
   "metadata": {},
   "outputs": [],
   "source": [
    "\n",
    "print(count)"
   ]
  },
  {
   "cell_type": "code",
   "execution_count": null,
   "metadata": {},
   "outputs": [],
   "source": [
    "print(\"count for video is at 23732 \")"
   ]
  },
  {
   "cell_type": "code",
   "execution_count": null,
   "metadata": {},
   "outputs": [],
   "source": [
    "count = 18394\n",
    "success = True\n",
    "while success:\n",
    "    success,image = vidcap.read(count)\n",
    "    filename ='train_1/' + videoFile +\"_frame%d.jpg\" % count\n",
    "    cv2.imwrite(filename, image) \n",
    "    count += 1\n",
    "vidcap.release()"
   ]
  },
  {
   "cell_type": "code",
   "execution_count": null,
   "metadata": {},
   "outputs": [],
   "source": [
    "videoFile = train['video_name'][1]\n",
    "vidcap = cv2.VideoCapture(videoFile)\n",
    "success,image = vidcap.read()"
   ]
  },
  {
   "cell_type": "code",
   "execution_count": null,
   "metadata": {},
   "outputs": [],
   "source": [
    "vidcap\n"
   ]
  },
  {
   "cell_type": "code",
   "execution_count": null,
   "metadata": {},
   "outputs": [],
   "source": []
  },
  {
   "cell_type": "code",
   "execution_count": null,
   "metadata": {},
   "outputs": [],
   "source": [
    "images\n"
   ]
  },
  {
   "cell_type": "code",
   "execution_count": null,
   "metadata": {},
   "outputs": [],
   "source": [
    "# getting the names of all the images\n",
    "images = glob(\"train_1/*.jpg\")\n",
    "\n",
    "train_image = []\n",
    "train_class = []\n",
    "for i in tqdm(range(len(images))):\n",
    "    # creating the image name\n",
    "    train_image.append(images[i].split('\\\\')[1])\n",
    "    # creating the class of image\n",
    "    train_class.append(images[i].split('\\\\')[1].split('_')[1])\n",
    "    \n",
    "# storing the images and their class in a dataframe\n",
    "train_data = pd.DataFrame()\n",
    "train_data['image'] = train_image\n",
    "train_data['class'] = train_class\n",
    "\n",
    "# converting the dataframe into csv file \n",
    "train_data.to_csv('train_new.csv',header=True, index=False)"
   ]
  },
  {
   "cell_type": "code",
   "execution_count": null,
   "metadata": {},
   "outputs": [],
   "source": [
    "images[0]"
   ]
  },
  {
   "cell_type": "code",
   "execution_count": null,
   "metadata": {},
   "outputs": [],
   "source": [
    "images[i].split('\\\\')[1]\n"
   ]
  },
  {
   "cell_type": "code",
   "execution_count": null,
   "metadata": {},
   "outputs": [],
   "source": [
    "images[46000].split('\\\\')[1].split('_')[1]"
   ]
  },
  {
   "cell_type": "code",
   "execution_count": null,
   "metadata": {},
   "outputs": [],
   "source": []
  },
  {
   "cell_type": "code",
   "execution_count": null,
   "metadata": {},
   "outputs": [],
   "source": [
    "train = pd.read_csv('train_new.csv')\n",
    "train.head()"
   ]
  },
  {
   "cell_type": "code",
   "execution_count": null,
   "metadata": {},
   "outputs": [],
   "source": [
    "# creating an empty list\n",
    "# train_image = []\n",
    "\n",
    "# for loop to read and store frames\n",
    "for i in tqdm(range(train.shape[0])):\n",
    "    # loading the image and keeping the target size as (224,224,3)\n",
    "    img = image.load_img('train_1/'+train['image'][i], target_size=(224,224,3))\n",
    "    # converting it to array\n",
    "    img = image.img_to_array(img)\n",
    "    # normalizing the pixel value\n",
    "    img = img/255\n",
    "    # appending the image to the train_image list\n",
    "#     train_image.append(img)\n",
    "    X = \n",
    "    \n",
    "# converting the list to numpy array\n",
    "X = np.array(train_image)\n",
    "\n",
    "# shape of the array\n",
    "X.shape"
   ]
  },
  {
   "cell_type": "code",
   "execution_count": null,
   "metadata": {},
   "outputs": [],
   "source": [
    "X = np.array(train_image)"
   ]
  },
  {
   "cell_type": "code",
   "execution_count": null,
   "metadata": {},
   "outputs": [],
   "source": [
    "range(train.shape[0])\n"
   ]
  },
  {
   "cell_type": "code",
   "execution_count": null,
   "metadata": {},
   "outputs": [],
   "source": [
    "x =10\n",
    "i =0\n",
    "x,i"
   ]
  },
  {
   "cell_type": "code",
   "execution_count": null,
   "metadata": {},
   "outputs": [],
   "source": [
    "print(x)\n",
    "print(i)\n",
    "train_image = []\n",
    "while i < x:\n",
    "    \n",
    "    # loading the image and keeping the target size as (224,224,3)\n",
    "    img = image.load_img('train_1/'+train['image'][i], target_size=(224,224,3))\n",
    "    # converting it to array\n",
    "    img = image.img_to_array(img)\n",
    "    # normalizing the pixel value\n",
    "    img = img/255\n",
    "    # appending the image to the train_image list\n",
    "    train_image.append(img)\n",
    "    i += 1\n",
    "    \n",
    "    \n",
    "# converting the list to numpy array\n",
    "X = np.array(train_image)\n",
    "\n",
    "# shape of the array\n",
    "# X.shape\n",
    "\n",
    "Y = np.array(train_image)\n",
    "Y.shape, X.shape"
   ]
  },
  {
   "cell_type": "code",
   "execution_count": null,
   "metadata": {},
   "outputs": [],
   "source": [
    "train_image = []\n",
    "while i < x:\n",
    "    \n",
    "    # loading the image and keeping the target size as (224,224,3)\n",
    "    img = image.load_img('train_1/'+train['image'][i], target_size=(224,224,3))\n",
    "    # converting it to array\n",
    "    img = image.img_to_array(img)\n",
    "    # normalizing the pixel value\n",
    "    img = img/255\n",
    "    # appending the image to the train_image list\n",
    "    train_image.append(img)\n",
    "    i += 1\n",
    "    \n",
    "    \n",
    "# converting the list to numpy array\n",
    "X = np.array(train_image)\n",
    "\n",
    "# shape of the array\n",
    "X.shape\n",
    "\n"
   ]
  },
  {
   "cell_type": "code",
   "execution_count": null,
   "metadata": {},
   "outputs": [],
   "source": [
    "Y = np.concatenate((Y,X))\n",
    "\n",
    "Y.shape"
   ]
  },
  {
   "cell_type": "code",
   "execution_count": null,
   "metadata": {},
   "outputs": [],
   "source": [
    "Y.shape"
   ]
  },
  {
   "cell_type": "code",
   "execution_count": null,
   "metadata": {},
   "outputs": [],
   "source": [
    "Y = np.concatenate((Y,X))\n",
    "Y.shape"
   ]
  },
  {
   "cell_type": "code",
   "execution_count": null,
   "metadata": {},
   "outputs": [],
   "source": [
    "Y =img\n",
    "Y\n",
    "\n"
   ]
  },
  {
   "cell_type": "code",
   "execution_count": null,
   "metadata": {},
   "outputs": [],
   "source": [
    "with open('test.npy', 'wb') as f:\n",
    "    np.save(f, Y)"
   ]
  },
  {
   "cell_type": "code",
   "execution_count": null,
   "metadata": {},
   "outputs": [],
   "source": [
    "with open('test_2.txt', 'wb') as f:\n",
    "    np.save(f, X)"
   ]
  },
  {
   "cell_type": "code",
   "execution_count": null,
   "metadata": {},
   "outputs": [],
   "source": [
    "# def csv_reader():\n",
    "#     for row in range(train.shape[0]):\n",
    "#         img = image.load_img('train_1/'+train['image'][i], target_size=(224,224,3))\n",
    "#         # converting it to array\n",
    "#         img = image.img_to_array(img)\n",
    "#         # normalizing the pixel value\n",
    "#         img = img/255\n",
    "#         yield img"
   ]
  },
  {
   "cell_type": "code",
   "execution_count": null,
   "metadata": {},
   "outputs": [],
   "source": [
    "csv_gen = (row for row in open('train_new.csv'))"
   ]
  },
  {
   "cell_type": "code",
   "execution_count": null,
   "metadata": {},
   "outputs": [],
   "source": [
    "csv_gen"
   ]
  },
  {
   "cell_type": "code",
   "execution_count": null,
   "metadata": {},
   "outputs": [],
   "source": [
    "row_count = 0\n",
    "\n",
    "for row in csv_gen:\n",
    "    row_count += 1\n",
    "\n",
    "print(f\"Row count is {row_count}\")"
   ]
  },
  {
   "cell_type": "code",
   "execution_count": null,
   "metadata": {},
   "outputs": [],
   "source": [
    "next(csv_gen)"
   ]
  },
  {
   "cell_type": "code",
   "execution_count": null,
   "metadata": {},
   "outputs": [],
   "source": [
    "hit = csv_reader('train_new.csv')"
   ]
  },
  {
   "cell_type": "code",
   "execution_count": null,
   "metadata": {},
   "outputs": [],
   "source": [
    "import keras\n",
    "from keras.models import Sequential\n",
    "from keras.applications.vgg16 import VGG16\n",
    "from keras.layers import Dense, InputLayer, Dropout, Flatten\n",
    "from keras.layers import Conv2D, MaxPooling2D, GlobalMaxPooling2D\n",
    "from keras.preprocessing import image\n",
    "import numpy as np\n",
    "import pandas as pd\n",
    "import matplotlib.pyplot as plt\n",
    "from tqdm import tqdm\n",
    "from sklearn.model_selection import train_test_split\n",
    "\n",
    "train = pd.read_csv('train_new.csv')\n",
    "train.head()\n",
    "\n",
    "def csv_reader():\n",
    "    for i in range(int((train.shape[0])/2)):\n",
    "        a = 2*i\n",
    "        if a %100 ==0:\n",
    "            print(a)\n",
    "        img_list=[]\n",
    "        img = image.load_img('train_1/'+train['image'][a], target_size=(224,224,3))\n",
    "        # converting it to array\n",
    "        img = image.img_to_array(img)\n",
    "        # normalizing the pixel value\n",
    "        img = img/255\n",
    "        img_list.append(img)\n",
    "        img = image.load_img('train_1/'+train['image'][a+1], target_size=(224,224,3))\n",
    "        # converting it to array\n",
    "        img = image.img_to_array(img)\n",
    "        # normalizing the pixel value\n",
    "        img = img/255\n",
    "        img_list.append(img)\n",
    "        img_array = np.array(img_list)\n",
    "#         print(img.size)\n",
    "        yield img_array\n",
    "\n",
    "img_gen = csv_reader()"
   ]
  },
  {
   "cell_type": "code",
   "execution_count": null,
   "metadata": {},
   "outputs": [],
   "source": [
    "next(hit)"
   ]
  },
  {
   "cell_type": "code",
   "execution_count": 1,
   "metadata": {},
   "outputs": [],
   "source": [
    "import keras\n",
    "from keras.models import Sequential\n",
    "from keras.applications.vgg16 import VGG16\n",
    "from keras.layers import Dense, InputLayer, Dropout, Flatten\n",
    "from keras.layers import Conv2D, MaxPooling2D, GlobalMaxPooling2D\n",
    "from keras.preprocessing import image\n",
    "import numpy as np\n",
    "import pandas as pd\n",
    "import matplotlib.pyplot as plt\n",
    "from tqdm import tqdm\n",
    "from sklearn.model_selection import train_test_split\n",
    "\n",
    "train = pd.read_csv('train_new.csv')\n",
    "train.head()\n",
    "\n",
    "def csv_reader():\n",
    "    for i in range(int((train.shape[0])/5000)):\n",
    "        b = 5000+(5000*i)\n",
    "        print(b)\n",
    "        img_list=[]\n",
    "        for a in range((b-5000),b):\n",
    "            if a %1000 ==0:\n",
    "                print(a)\n",
    "            \n",
    "            img = image.load_img('train_1/'+train['image'][a], target_size=(224,224,3))\n",
    "            # converting it to array\n",
    "            img = image.img_to_array(img)\n",
    "            # normalizing the pixel value\n",
    "            img = img/255\n",
    "            img_list.append(img)\n",
    "        \n",
    "        img_array = np.array(img_list)\n",
    "#         print(img.size)\n",
    "        yield img_array\n",
    "\n",
    "img_gen = csv_reader()\n"
   ]
  },
  {
   "cell_type": "code",
   "execution_count": 2,
   "metadata": {},
   "outputs": [
    {
     "name": "stdout",
     "output_type": "stream",
     "text": [
      "5000\n",
      "0\n",
      "1000\n",
      "2000\n",
      "3000\n",
      "4000\n"
     ]
    },
    {
     "data": {
      "text/plain": [
       "((5000, 224, 224, 3), array([[[[0.5137255 , 0.6156863 , 0.7137255 ],\n",
       "          [0.5137255 , 0.6156863 , 0.7137255 ],\n",
       "          [0.5137255 , 0.6117647 , 0.69803923],\n",
       "          ...,\n",
       "          [0.4117647 , 0.50980395, 0.59607846],\n",
       "          [0.16078432, 0.26666668, 0.34117648],\n",
       "          [0.30980393, 0.4117647 , 0.47843137]],\n",
       " \n",
       "         [[0.5137255 , 0.6156863 , 0.7137255 ],\n",
       "          [0.5137255 , 0.6156863 , 0.7137255 ],\n",
       "          [0.5176471 , 0.6156863 , 0.7019608 ],\n",
       "          ...,\n",
       "          [0.32156864, 0.41960785, 0.5058824 ],\n",
       "          [0.2       , 0.30588236, 0.38039216],\n",
       "          [0.29411766, 0.39607844, 0.4627451 ]],\n",
       " \n",
       "         [[0.5137255 , 0.6156863 , 0.7137255 ],\n",
       "          [0.5137255 , 0.6156863 , 0.7137255 ],\n",
       "          [0.52156866, 0.61960787, 0.7058824 ],\n",
       "          ...,\n",
       "          [0.40784314, 0.5058824 , 0.5921569 ],\n",
       "          [0.42745098, 0.5254902 , 0.6039216 ],\n",
       "          [0.43137255, 0.52156866, 0.5921569 ]],\n",
       " \n",
       "         ...,\n",
       " \n",
       "         [[0.06666667, 0.06666667, 0.07450981],\n",
       "          [0.06666667, 0.06666667, 0.07450981],\n",
       "          [0.07058824, 0.07058824, 0.07843138],\n",
       "          ...,\n",
       "          [0.12156863, 0.13725491, 0.13333334],\n",
       "          [0.11372549, 0.12941177, 0.1254902 ],\n",
       "          [0.11372549, 0.12941177, 0.1254902 ]],\n",
       " \n",
       "         [[0.06666667, 0.06666667, 0.07450981],\n",
       "          [0.06666667, 0.06666667, 0.07450981],\n",
       "          [0.06666667, 0.06666667, 0.05882353],\n",
       "          ...,\n",
       "          [0.1254902 , 0.14117648, 0.13725491],\n",
       "          [0.10980392, 0.1254902 , 0.12156863],\n",
       "          [0.10980392, 0.1254902 , 0.12156863]],\n",
       " \n",
       "         [[0.06666667, 0.06666667, 0.07450981],\n",
       "          [0.06666667, 0.06666667, 0.07450981],\n",
       "          [0.0627451 , 0.0627451 , 0.05490196],\n",
       "          ...,\n",
       "          [0.1254902 , 0.14117648, 0.13725491],\n",
       "          [0.10980392, 0.1254902 , 0.12156863],\n",
       "          [0.10980392, 0.1254902 , 0.12156863]]],\n",
       " \n",
       " \n",
       "        [[[0.5137255 , 0.6156863 , 0.7137255 ],\n",
       "          [0.5137255 , 0.6156863 , 0.7137255 ],\n",
       "          [0.5176471 , 0.6156863 , 0.7019608 ],\n",
       "          ...,\n",
       "          [0.41960785, 0.5176471 , 0.6039216 ],\n",
       "          [0.14901961, 0.24705882, 0.3254902 ],\n",
       "          [0.3372549 , 0.42745098, 0.49803922]],\n",
       " \n",
       "         [[0.5137255 , 0.6156863 , 0.7137255 ],\n",
       "          [0.5137255 , 0.6156863 , 0.7137255 ],\n",
       "          [0.5176471 , 0.6156863 , 0.7019608 ],\n",
       "          ...,\n",
       "          [0.33333334, 0.43137255, 0.5176471 ],\n",
       "          [0.22352941, 0.32156864, 0.4       ],\n",
       "          [0.31764707, 0.40784314, 0.47843137]],\n",
       " \n",
       "         [[0.5137255 , 0.6156863 , 0.7137255 ],\n",
       "          [0.5137255 , 0.6156863 , 0.7137255 ],\n",
       "          [0.52156866, 0.61960787, 0.7058824 ],\n",
       "          ...,\n",
       "          [0.41960785, 0.5176471 , 0.6039216 ],\n",
       "          [0.45882353, 0.54509807, 0.627451  ],\n",
       "          [0.43529412, 0.5176471 , 0.5921569 ]],\n",
       " \n",
       "         ...,\n",
       " \n",
       "         [[0.06666667, 0.06666667, 0.07450981],\n",
       "          [0.06666667, 0.06666667, 0.07450981],\n",
       "          [0.07058824, 0.07058824, 0.07843138],\n",
       "          ...,\n",
       "          [0.11764706, 0.13333334, 0.12941177],\n",
       "          [0.11372549, 0.12941177, 0.1254902 ],\n",
       "          [0.11372549, 0.12941177, 0.1254902 ]],\n",
       " \n",
       "         [[0.06666667, 0.06666667, 0.07450981],\n",
       "          [0.06666667, 0.06666667, 0.07450981],\n",
       "          [0.07058824, 0.07058824, 0.07843138],\n",
       "          ...,\n",
       "          [0.1254902 , 0.14117648, 0.13725491],\n",
       "          [0.11372549, 0.12941177, 0.1254902 ],\n",
       "          [0.11372549, 0.12941177, 0.1254902 ]],\n",
       " \n",
       "         [[0.06666667, 0.06666667, 0.07450981],\n",
       "          [0.06666667, 0.06666667, 0.07450981],\n",
       "          [0.0627451 , 0.0627451 , 0.0627451 ],\n",
       "          ...,\n",
       "          [0.12941177, 0.14509805, 0.14117648],\n",
       "          [0.10980392, 0.1254902 , 0.12156863],\n",
       "          [0.10588235, 0.12156863, 0.11764706]]],\n",
       " \n",
       " \n",
       "        [[[0.5176471 , 0.6117647 , 0.7058824 ],\n",
       "          [0.5176471 , 0.6117647 , 0.7058824 ],\n",
       "          [0.5176471 , 0.6156863 , 0.7019608 ],\n",
       "          ...,\n",
       "          [0.39607844, 0.5019608 , 0.5764706 ],\n",
       "          [0.18431373, 0.28235295, 0.36078432],\n",
       "          [0.32941177, 0.41960785, 0.49019608]],\n",
       " \n",
       "         [[0.5176471 , 0.6117647 , 0.7058824 ],\n",
       "          [0.5176471 , 0.6117647 , 0.7058824 ],\n",
       "          [0.5176471 , 0.6156863 , 0.7019608 ],\n",
       "          ...,\n",
       "          [0.34509805, 0.4509804 , 0.5254902 ],\n",
       "          [0.24705882, 0.34509805, 0.42352942],\n",
       "          [0.30980393, 0.4       , 0.47058824]],\n",
       " \n",
       "         [[0.5176471 , 0.6117647 , 0.7058824 ],\n",
       "          [0.5176471 , 0.6117647 , 0.7058824 ],\n",
       "          [0.52156866, 0.61960787, 0.7058824 ],\n",
       "          ...,\n",
       "          [0.41960785, 0.5254902 , 0.6       ],\n",
       "          [0.4117647 , 0.49803922, 0.5803922 ],\n",
       "          [0.47058824, 0.5529412 , 0.627451  ]],\n",
       " \n",
       "         ...,\n",
       " \n",
       "         [[0.06666667, 0.06666667, 0.07450981],\n",
       "          [0.06666667, 0.06666667, 0.07450981],\n",
       "          [0.07058824, 0.07058824, 0.07843138],\n",
       "          ...,\n",
       "          [0.10588235, 0.12156863, 0.11764706],\n",
       "          [0.09803922, 0.11372549, 0.10980392],\n",
       "          [0.09803922, 0.11372549, 0.10980392]],\n",
       " \n",
       "         [[0.06666667, 0.06666667, 0.07450981],\n",
       "          [0.06666667, 0.06666667, 0.07450981],\n",
       "          [0.07058824, 0.07058824, 0.07843138],\n",
       "          ...,\n",
       "          [0.10588235, 0.12156863, 0.11764706],\n",
       "          [0.09803922, 0.11372549, 0.10980392],\n",
       "          [0.09803922, 0.11372549, 0.10980392]],\n",
       " \n",
       "         [[0.06666667, 0.06666667, 0.07450981],\n",
       "          [0.06666667, 0.06666667, 0.07450981],\n",
       "          [0.0627451 , 0.0627451 , 0.07058824],\n",
       "          ...,\n",
       "          [0.10980392, 0.1254902 , 0.12156863],\n",
       "          [0.09803922, 0.11372549, 0.10980392],\n",
       "          [0.09019608, 0.10588235, 0.10196079]]],\n",
       " \n",
       " \n",
       "        ...,\n",
       " \n",
       " \n",
       "        [[[0.63529414, 0.6784314 , 0.75686276],\n",
       "          [0.63529414, 0.6784314 , 0.75686276],\n",
       "          [0.63529414, 0.6784314 , 0.75686276],\n",
       "          ...,\n",
       "          [0.81960785, 0.83137256, 0.85882354],\n",
       "          [0.8039216 , 0.8156863 , 0.8509804 ],\n",
       "          [0.8039216 , 0.8156863 , 0.8509804 ]],\n",
       " \n",
       "         [[0.63529414, 0.6784314 , 0.75686276],\n",
       "          [0.63529414, 0.6784314 , 0.75686276],\n",
       "          [0.63529414, 0.6784314 , 0.75686276],\n",
       "          ...,\n",
       "          [0.8117647 , 0.8235294 , 0.8509804 ],\n",
       "          [0.8       , 0.8117647 , 0.84705883],\n",
       "          [0.8       , 0.8117647 , 0.84705883]],\n",
       " \n",
       "         [[0.6392157 , 0.68235296, 0.7607843 ],\n",
       "          [0.6392157 , 0.68235296, 0.7607843 ],\n",
       "          [0.6392157 , 0.68235296, 0.7607843 ],\n",
       "          ...,\n",
       "          [0.8039216 , 0.8156863 , 0.84313726],\n",
       "          [0.79607844, 0.80784315, 0.84313726],\n",
       "          [0.79607844, 0.80784315, 0.84313726]],\n",
       " \n",
       "         ...,\n",
       " \n",
       "         [[0.27058825, 0.27058825, 0.2784314 ],\n",
       "          [0.27058825, 0.27058825, 0.2784314 ],\n",
       "          [0.27058825, 0.27058825, 0.2784314 ],\n",
       "          ...,\n",
       "          [0.17254902, 0.17254902, 0.17254902],\n",
       "          [0.18039216, 0.18039216, 0.18039216],\n",
       "          [0.18039216, 0.18039216, 0.1882353 ]],\n",
       " \n",
       "         [[0.2627451 , 0.2627451 , 0.27058825],\n",
       "          [0.2627451 , 0.2627451 , 0.27058825],\n",
       "          [0.2627451 , 0.2627451 , 0.27058825],\n",
       "          ...,\n",
       "          [0.16078432, 0.16078432, 0.16078432],\n",
       "          [0.16862746, 0.16862746, 0.16862746],\n",
       "          [0.16862746, 0.16862746, 0.16862746]],\n",
       " \n",
       "         [[0.24313726, 0.24313726, 0.24313726],\n",
       "          [0.24313726, 0.24313726, 0.24313726],\n",
       "          [0.23529412, 0.23529412, 0.23529412],\n",
       "          ...,\n",
       "          [0.15686275, 0.15686275, 0.15686275],\n",
       "          [0.16078432, 0.16078432, 0.16078432],\n",
       "          [0.16078432, 0.16078432, 0.16078432]]],\n",
       " \n",
       " \n",
       "        [[[0.6392157 , 0.68235296, 0.7607843 ],\n",
       "          [0.6392157 , 0.68235296, 0.7607843 ],\n",
       "          [0.6392157 , 0.68235296, 0.7607843 ],\n",
       "          ...,\n",
       "          [0.8235294 , 0.8352941 , 0.8627451 ],\n",
       "          [0.80784315, 0.81960785, 0.85490197],\n",
       "          [0.80784315, 0.81960785, 0.85490197]],\n",
       " \n",
       "         [[0.6392157 , 0.68235296, 0.7607843 ],\n",
       "          [0.6392157 , 0.68235296, 0.7607843 ],\n",
       "          [0.6392157 , 0.68235296, 0.7607843 ],\n",
       "          ...,\n",
       "          [0.8235294 , 0.8352941 , 0.8627451 ],\n",
       "          [0.8039216 , 0.8156863 , 0.8509804 ],\n",
       "          [0.8039216 , 0.8156863 , 0.8509804 ]],\n",
       " \n",
       "         [[0.6392157 , 0.68235296, 0.7607843 ],\n",
       "          [0.6392157 , 0.68235296, 0.7607843 ],\n",
       "          [0.6392157 , 0.68235296, 0.7607843 ],\n",
       "          ...,\n",
       "          [0.8117647 , 0.8235294 , 0.8509804 ],\n",
       "          [0.79607844, 0.80784315, 0.84313726],\n",
       "          [0.79607844, 0.80784315, 0.84313726]],\n",
       " \n",
       "         ...,\n",
       " \n",
       "         [[0.27058825, 0.26666668, 0.28627452],\n",
       "          [0.2627451 , 0.26666668, 0.28235295],\n",
       "          [0.26666668, 0.26666668, 0.27450982],\n",
       "          ...,\n",
       "          [0.17254902, 0.17254902, 0.17254902],\n",
       "          [0.1764706 , 0.1764706 , 0.1764706 ],\n",
       "          [0.1764706 , 0.1764706 , 0.1764706 ]],\n",
       " \n",
       "         [[0.26666668, 0.26666668, 0.27450982],\n",
       "          [0.25490198, 0.25882354, 0.26666668],\n",
       "          [0.25882354, 0.26666668, 0.2627451 ],\n",
       "          ...,\n",
       "          [0.16078432, 0.16078432, 0.16078432],\n",
       "          [0.16862746, 0.16862746, 0.16862746],\n",
       "          [0.16862746, 0.16862746, 0.16862746]],\n",
       " \n",
       "         [[0.23921569, 0.23921569, 0.23921569],\n",
       "          [0.22352941, 0.23137255, 0.21960784],\n",
       "          [0.22745098, 0.23529412, 0.23137255],\n",
       "          ...,\n",
       "          [0.15686275, 0.15686275, 0.15686275],\n",
       "          [0.16078432, 0.16078432, 0.16078432],\n",
       "          [0.16078432, 0.16078432, 0.16078432]]],\n",
       " \n",
       " \n",
       "        [[[0.6392157 , 0.68235296, 0.7607843 ],\n",
       "          [0.6392157 , 0.68235296, 0.7607843 ],\n",
       "          [0.6392157 , 0.68235296, 0.7607843 ],\n",
       "          ...,\n",
       "          [0.8235294 , 0.8352941 , 0.8627451 ],\n",
       "          [0.80784315, 0.81960785, 0.85490197],\n",
       "          [0.80784315, 0.81960785, 0.85490197]],\n",
       " \n",
       "         [[0.6392157 , 0.68235296, 0.7607843 ],\n",
       "          [0.6392157 , 0.68235296, 0.7607843 ],\n",
       "          [0.6392157 , 0.68235296, 0.7607843 ],\n",
       "          ...,\n",
       "          [0.8235294 , 0.8352941 , 0.8627451 ],\n",
       "          [0.8039216 , 0.8156863 , 0.8509804 ],\n",
       "          [0.8039216 , 0.8156863 , 0.8509804 ]],\n",
       " \n",
       "         [[0.6392157 , 0.68235296, 0.7607843 ],\n",
       "          [0.6392157 , 0.68235296, 0.7607843 ],\n",
       "          [0.6392157 , 0.68235296, 0.7607843 ],\n",
       "          ...,\n",
       "          [0.8117647 , 0.8235294 , 0.8509804 ],\n",
       "          [0.79607844, 0.80784315, 0.84313726],\n",
       "          [0.79607844, 0.80784315, 0.84313726]],\n",
       " \n",
       "         ...,\n",
       " \n",
       "         [[0.27058825, 0.26666668, 0.28627452],\n",
       "          [0.2627451 , 0.26666668, 0.28235295],\n",
       "          [0.27058825, 0.27058825, 0.2784314 ],\n",
       "          ...,\n",
       "          [0.16862746, 0.16862746, 0.16862746],\n",
       "          [0.1764706 , 0.1764706 , 0.1764706 ],\n",
       "          [0.1764706 , 0.1764706 , 0.1764706 ]],\n",
       " \n",
       "         [[0.26666668, 0.2627451 , 0.28235295],\n",
       "          [0.25882354, 0.2627451 , 0.27058825],\n",
       "          [0.25882354, 0.26666668, 0.2627451 ],\n",
       "          ...,\n",
       "          [0.16078432, 0.16078432, 0.16078432],\n",
       "          [0.17254902, 0.17254902, 0.17254902],\n",
       "          [0.17254902, 0.17254902, 0.17254902]],\n",
       " \n",
       "         [[0.25490198, 0.25490198, 0.2627451 ],\n",
       "          [0.24313726, 0.2509804 , 0.24705882],\n",
       "          [0.22745098, 0.23529412, 0.23137255],\n",
       "          ...,\n",
       "          [0.16078432, 0.16078432, 0.16078432],\n",
       "          [0.16862746, 0.16862746, 0.16862746],\n",
       "          [0.16862746, 0.16862746, 0.16862746]]]], dtype=float32))"
      ]
     },
     "execution_count": 2,
     "metadata": {},
     "output_type": "execute_result"
    }
   ],
   "source": [
    "a = next(img_gen)\n",
    "a.shape,a\n"
   ]
  },
  {
   "cell_type": "code",
   "execution_count": null,
   "metadata": {},
   "outputs": [],
   "source": [
    "# for i in range(100):\n",
    "#     a = next(img_gen)\n",
    "# a"
   ]
  },
  {
   "cell_type": "code",
   "execution_count": null,
   "metadata": {},
   "outputs": [],
   "source": [
    "# a = []\n",
    "# a.append(next(img_gen))\n",
    "# a.append(next(img_gen))\n",
    "# c =  np.array(a)\n",
    "# c.shape"
   ]
  },
  {
   "cell_type": "code",
   "execution_count": null,
   "metadata": {},
   "outputs": [],
   "source": [
    "# y = np.concatenate((a,next(img_gen)))\n",
    "# y"
   ]
  },
  {
   "cell_type": "code",
   "execution_count": 3,
   "metadata": {},
   "outputs": [
    {
     "name": "stdout",
     "output_type": "stream",
     "text": [
      "10000\n",
      "0\n",
      "1000\n",
      "2000\n"
     ]
    },
    {
     "ename": "KeyboardInterrupt",
     "evalue": "",
     "output_type": "error",
     "traceback": [
      "\u001b[1;31m---------------------------------------------------------------------------\u001b[0m",
      "\u001b[1;31mKeyboardInterrupt\u001b[0m                         Traceback (most recent call last)",
      "\u001b[1;32m<ipython-input-3-47c474e1856f>\u001b[0m in \u001b[0;36m<module>\u001b[1;34m\u001b[0m\n\u001b[1;32m----> 1\u001b[1;33m \u001b[1;32mfor\u001b[0m \u001b[0mrow\u001b[0m \u001b[1;32min\u001b[0m \u001b[0mimg_gen\u001b[0m\u001b[1;33m:\u001b[0m\u001b[1;33m\u001b[0m\u001b[1;33m\u001b[0m\u001b[0m\n\u001b[0m\u001b[0;32m      2\u001b[0m \u001b[1;31m#     print(row)\u001b[0m\u001b[1;33m\u001b[0m\u001b[1;33m\u001b[0m\u001b[1;33m\u001b[0m\u001b[0m\n\u001b[0;32m      3\u001b[0m \u001b[1;31m#     print(row.shape)\u001b[0m\u001b[1;33m\u001b[0m\u001b[1;33m\u001b[0m\u001b[1;33m\u001b[0m\u001b[0m\n\u001b[0;32m      4\u001b[0m \u001b[1;31m#     print(a.shape)\u001b[0m\u001b[1;33m\u001b[0m\u001b[1;33m\u001b[0m\u001b[1;33m\u001b[0m\u001b[0m\n\u001b[0;32m      5\u001b[0m     \u001b[0ma\u001b[0m \u001b[1;33m=\u001b[0m \u001b[0mnp\u001b[0m\u001b[1;33m.\u001b[0m\u001b[0mconcatenate\u001b[0m\u001b[1;33m(\u001b[0m\u001b[1;33m(\u001b[0m\u001b[0ma\u001b[0m\u001b[1;33m,\u001b[0m \u001b[0mrow\u001b[0m\u001b[1;33m)\u001b[0m\u001b[1;33m)\u001b[0m\u001b[1;33m\u001b[0m\u001b[1;33m\u001b[0m\u001b[0m\n",
      "\u001b[1;32m<ipython-input-1-cbdf17a8fb2a>\u001b[0m in \u001b[0;36mcsv_reader\u001b[1;34m()\u001b[0m\n\u001b[0;32m     23\u001b[0m                 \u001b[0mprint\u001b[0m\u001b[1;33m(\u001b[0m\u001b[0ma\u001b[0m\u001b[1;33m)\u001b[0m\u001b[1;33m\u001b[0m\u001b[1;33m\u001b[0m\u001b[0m\n\u001b[0;32m     24\u001b[0m \u001b[1;33m\u001b[0m\u001b[0m\n\u001b[1;32m---> 25\u001b[1;33m             \u001b[0mimg\u001b[0m \u001b[1;33m=\u001b[0m \u001b[0mimage\u001b[0m\u001b[1;33m.\u001b[0m\u001b[0mload_img\u001b[0m\u001b[1;33m(\u001b[0m\u001b[1;34m'train_1/'\u001b[0m\u001b[1;33m+\u001b[0m\u001b[0mtrain\u001b[0m\u001b[1;33m[\u001b[0m\u001b[1;34m'image'\u001b[0m\u001b[1;33m]\u001b[0m\u001b[1;33m[\u001b[0m\u001b[0ma\u001b[0m\u001b[1;33m]\u001b[0m\u001b[1;33m,\u001b[0m \u001b[0mtarget_size\u001b[0m\u001b[1;33m=\u001b[0m\u001b[1;33m(\u001b[0m\u001b[1;36m224\u001b[0m\u001b[1;33m,\u001b[0m\u001b[1;36m224\u001b[0m\u001b[1;33m,\u001b[0m\u001b[1;36m3\u001b[0m\u001b[1;33m)\u001b[0m\u001b[1;33m)\u001b[0m\u001b[1;33m\u001b[0m\u001b[1;33m\u001b[0m\u001b[0m\n\u001b[0m\u001b[0;32m     26\u001b[0m             \u001b[1;31m# converting it to array\u001b[0m\u001b[1;33m\u001b[0m\u001b[1;33m\u001b[0m\u001b[1;33m\u001b[0m\u001b[0m\n\u001b[0;32m     27\u001b[0m             \u001b[0mimg\u001b[0m \u001b[1;33m=\u001b[0m \u001b[0mimage\u001b[0m\u001b[1;33m.\u001b[0m\u001b[0mimg_to_array\u001b[0m\u001b[1;33m(\u001b[0m\u001b[0mimg\u001b[0m\u001b[1;33m)\u001b[0m\u001b[1;33m\u001b[0m\u001b[1;33m\u001b[0m\u001b[0m\n",
      "\u001b[1;32m~\\Miniconda3\\lib\\site-packages\\tensorflow\\python\\keras\\preprocessing\\image.py\u001b[0m in \u001b[0;36mload_img\u001b[1;34m(path, grayscale, color_mode, target_size, interpolation)\u001b[0m\n\u001b[0;32m    298\u001b[0m   \"\"\"\n\u001b[0;32m    299\u001b[0m   return image.load_img(path, grayscale=grayscale, color_mode=color_mode,\n\u001b[1;32m--> 300\u001b[1;33m                         target_size=target_size, interpolation=interpolation)\n\u001b[0m\u001b[0;32m    301\u001b[0m \u001b[1;33m\u001b[0m\u001b[0m\n\u001b[0;32m    302\u001b[0m \u001b[1;33m\u001b[0m\u001b[0m\n",
      "\u001b[1;32m~\\Miniconda3\\lib\\site-packages\\keras_preprocessing\\image\\utils.py\u001b[0m in \u001b[0;36mload_img\u001b[1;34m(path, grayscale, color_mode, target_size, interpolation)\u001b[0m\n\u001b[0;32m    136\u001b[0m                             \", \".join(_PIL_INTERPOLATION_METHODS.keys())))\n\u001b[0;32m    137\u001b[0m                 \u001b[0mresample\u001b[0m \u001b[1;33m=\u001b[0m \u001b[0m_PIL_INTERPOLATION_METHODS\u001b[0m\u001b[1;33m[\u001b[0m\u001b[0minterpolation\u001b[0m\u001b[1;33m]\u001b[0m\u001b[1;33m\u001b[0m\u001b[1;33m\u001b[0m\u001b[0m\n\u001b[1;32m--> 138\u001b[1;33m                 \u001b[0mimg\u001b[0m \u001b[1;33m=\u001b[0m \u001b[0mimg\u001b[0m\u001b[1;33m.\u001b[0m\u001b[0mresize\u001b[0m\u001b[1;33m(\u001b[0m\u001b[0mwidth_height_tuple\u001b[0m\u001b[1;33m,\u001b[0m \u001b[0mresample\u001b[0m\u001b[1;33m)\u001b[0m\u001b[1;33m\u001b[0m\u001b[1;33m\u001b[0m\u001b[0m\n\u001b[0m\u001b[0;32m    139\u001b[0m         \u001b[1;32mreturn\u001b[0m \u001b[0mimg\u001b[0m\u001b[1;33m\u001b[0m\u001b[1;33m\u001b[0m\u001b[0m\n\u001b[0;32m    140\u001b[0m \u001b[1;33m\u001b[0m\u001b[0m\n",
      "\u001b[1;32m~\\Miniconda3\\lib\\site-packages\\PIL\\Image.py\u001b[0m in \u001b[0;36mresize\u001b[1;34m(self, size, resample, box, reducing_gap)\u001b[0m\n\u001b[0;32m   1914\u001b[0m             \u001b[1;32mreturn\u001b[0m \u001b[0mim\u001b[0m\u001b[1;33m.\u001b[0m\u001b[0mconvert\u001b[0m\u001b[1;33m(\u001b[0m\u001b[0mself\u001b[0m\u001b[1;33m.\u001b[0m\u001b[0mmode\u001b[0m\u001b[1;33m)\u001b[0m\u001b[1;33m\u001b[0m\u001b[1;33m\u001b[0m\u001b[0m\n\u001b[0;32m   1915\u001b[0m \u001b[1;33m\u001b[0m\u001b[0m\n\u001b[1;32m-> 1916\u001b[1;33m         \u001b[0mself\u001b[0m\u001b[1;33m.\u001b[0m\u001b[0mload\u001b[0m\u001b[1;33m(\u001b[0m\u001b[1;33m)\u001b[0m\u001b[1;33m\u001b[0m\u001b[1;33m\u001b[0m\u001b[0m\n\u001b[0m\u001b[0;32m   1917\u001b[0m \u001b[1;33m\u001b[0m\u001b[0m\n\u001b[0;32m   1918\u001b[0m         \u001b[1;32mif\u001b[0m \u001b[0mreducing_gap\u001b[0m \u001b[1;32mis\u001b[0m \u001b[1;32mnot\u001b[0m \u001b[1;32mNone\u001b[0m \u001b[1;32mand\u001b[0m \u001b[0mresample\u001b[0m \u001b[1;33m!=\u001b[0m \u001b[0mNEAREST\u001b[0m\u001b[1;33m:\u001b[0m\u001b[1;33m\u001b[0m\u001b[1;33m\u001b[0m\u001b[0m\n",
      "\u001b[1;32m~\\Miniconda3\\lib\\site-packages\\PIL\\ImageFile.py\u001b[0m in \u001b[0;36mload\u001b[1;34m(self)\u001b[0m\n\u001b[0;32m    263\u001b[0m \u001b[1;33m\u001b[0m\u001b[0m\n\u001b[0;32m    264\u001b[0m                             \u001b[0mb\u001b[0m \u001b[1;33m=\u001b[0m \u001b[0mb\u001b[0m \u001b[1;33m+\u001b[0m \u001b[0ms\u001b[0m\u001b[1;33m\u001b[0m\u001b[1;33m\u001b[0m\u001b[0m\n\u001b[1;32m--> 265\u001b[1;33m                             \u001b[0mn\u001b[0m\u001b[1;33m,\u001b[0m \u001b[0merr_code\u001b[0m \u001b[1;33m=\u001b[0m \u001b[0mdecoder\u001b[0m\u001b[1;33m.\u001b[0m\u001b[0mdecode\u001b[0m\u001b[1;33m(\u001b[0m\u001b[0mb\u001b[0m\u001b[1;33m)\u001b[0m\u001b[1;33m\u001b[0m\u001b[1;33m\u001b[0m\u001b[0m\n\u001b[0m\u001b[0;32m    266\u001b[0m                             \u001b[1;32mif\u001b[0m \u001b[0mn\u001b[0m \u001b[1;33m<\u001b[0m \u001b[1;36m0\u001b[0m\u001b[1;33m:\u001b[0m\u001b[1;33m\u001b[0m\u001b[1;33m\u001b[0m\u001b[0m\n\u001b[0;32m    267\u001b[0m                                 \u001b[1;32mbreak\u001b[0m\u001b[1;33m\u001b[0m\u001b[1;33m\u001b[0m\u001b[0m\n",
      "\u001b[1;31mKeyboardInterrupt\u001b[0m: "
     ]
    }
   ],
   "source": [
    "for row in img_gen:\n",
    "#     print(row)\n",
    "#     print(row.shape)\n",
    "#     print(a.shape)\n",
    "    a = np.concatenate((a, row))\n",
    "    \n",
    "a.shape"
   ]
  },
  {
   "cell_type": "code",
   "execution_count": 4,
   "metadata": {},
   "outputs": [
    {
     "data": {
      "text/plain": [
       "(5000, 224, 224, 3)"
      ]
     },
     "execution_count": 4,
     "metadata": {},
     "output_type": "execute_result"
    }
   ],
   "source": [
    "a.shape"
   ]
  },
  {
   "cell_type": "code",
   "execution_count": 5,
   "metadata": {},
   "outputs": [
    {
     "data": {
      "text/plain": [
       "40000"
      ]
     },
     "execution_count": 5,
     "metadata": {},
     "output_type": "execute_result"
    }
   ],
   "source": [
    "int((train.shape[0]))"
   ]
  },
  {
   "cell_type": "code",
   "execution_count": null,
   "metadata": {},
   "outputs": [],
   "source": [
    "row.shape\n"
   ]
  },
  {
   "cell_type": "code",
   "execution_count": null,
   "metadata": {},
   "outputs": [],
   "source": []
  }
 ],
 "metadata": {
  "kernelspec": {
   "display_name": "Python 3.7.3 64-bit ('base': conda)",
   "language": "python",
   "name": "python37364bitbaseconda6a61f85f0a314c31b2c13f38c04c20dd"
  },
  "language_info": {
   "codemirror_mode": {
    "name": "ipython",
    "version": 3
   },
   "file_extension": ".py",
   "mimetype": "text/x-python",
   "name": "python",
   "nbconvert_exporter": "python",
   "pygments_lexer": "ipython3",
   "version": "3.7.3"
  }
 },
 "nbformat": 4,
 "nbformat_minor": 2
}
