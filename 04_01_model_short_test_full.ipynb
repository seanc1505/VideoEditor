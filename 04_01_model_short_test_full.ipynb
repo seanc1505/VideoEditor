{
 "cells": [
  {
   "cell_type": "code",
   "execution_count": 2,
   "metadata": {},
   "outputs": [
    {
     "name": "stdout",
     "output_type": "stream",
     "text": [
      "(1899, 256, 256, 3)\n"
     ]
    }
   ],
   "source": [
    "from PIL import Image\n",
    "import numpy as np\n",
    "import tensorflow as tf\n",
    "import glob\n",
    "\n",
    "data_path = \"./func_test/full/\"\n",
    "\n",
    "filelist = glob.glob(data_path+'*.jpg')\n",
    "full_data = np.empty((len(filelist),256,256,3))\n",
    "print(full_data.shape)\n",
    "count = 0 \n",
    "\n",
    "for file_name in filelist:\n",
    "    temp_image = Image.open(file_name)\n",
    "    temp_image = temp_image.resize((256, 256))\n",
    "    temp_array = np.asarray(temp_image)\n",
    "    full_data[count] = temp_array\n",
    "    count +=1"
   ]
  },
  {
   "cell_type": "code",
   "execution_count": 4,
   "metadata": {},
   "outputs": [
    {
     "data": {
      "text/plain": [
       "array([[[113.,  93., 131.],\n",
       "        [180., 174., 194.],\n",
       "        [229., 235., 236.],\n",
       "        ...,\n",
       "        [117., 113., 114.],\n",
       "        [ 85.,  81.,  82.],\n",
       "        [ 75.,  71.,  72.]],\n",
       "\n",
       "       [[162., 142., 176.],\n",
       "        [242., 237., 250.],\n",
       "        [218., 223., 223.],\n",
       "        ...,\n",
       "        [123., 121., 124.],\n",
       "        [107., 104., 107.],\n",
       "        [104., 102., 105.]],\n",
       "\n",
       "       [[228., 210., 233.],\n",
       "        [253., 251., 255.],\n",
       "        [234., 240., 237.],\n",
       "        ...,\n",
       "        [129., 134., 137.],\n",
       "        [133., 137., 140.],\n",
       "        [102., 107., 110.]],\n",
       "\n",
       "       ...,\n",
       "\n",
       "       [[100.,  98.,  67.],\n",
       "        [ 36.,  31.,  21.],\n",
       "        [ 37.,  35.,  16.],\n",
       "        ...,\n",
       "        [ 67.,  66.,  64.],\n",
       "        [ 50.,  49.,  47.],\n",
       "        [ 50.,  49.,  47.]],\n",
       "\n",
       "       [[ 31.,  28.,  23.],\n",
       "        [ 69.,  66.,  60.],\n",
       "        [ 81.,  76.,  57.],\n",
       "        ...,\n",
       "        [ 29.,  27.,  26.],\n",
       "        [ 39.,  37.,  38.],\n",
       "        [ 44.,  42.,  43.]],\n",
       "\n",
       "       [[  5.,   3.,   5.],\n",
       "        [ 26.,  23.,  22.],\n",
       "        [107., 100.,  80.],\n",
       "        ...,\n",
       "        [ 24.,  23.,  22.],\n",
       "        [ 24.,  22.,  23.],\n",
       "        [ 21.,  19.,  20.]]])"
      ]
     },
     "execution_count": 4,
     "metadata": {},
     "output_type": "execute_result"
    }
   ],
   "source": [
    "full_data[1898]"
   ]
  },
  {
   "cell_type": "code",
   "execution_count": 5,
   "metadata": {},
   "outputs": [
    {
     "data": {
      "text/plain": [
       "array([[ 2.967779 , 17.986965 ],\n",
       "       [ 2.484168 , 18.602314 ],\n",
       "       [ 6.069951 , 10.1942835],\n",
       "       ...,\n",
       "       [-1.378803 , 26.982056 ],\n",
       "       [-1.982434 , 28.647224 ],\n",
       "       [-1.8398259, 28.309523 ]], dtype=float32)"
      ]
     },
     "execution_count": 5,
     "metadata": {},
     "output_type": "execute_result"
    }
   ],
   "source": [
    "from tensorflow import keras\n",
    "model = keras.models.load_model('model_22_01_11_notts_tuam')\n",
    "full_prediction = model.predict(full_data)\n",
    "full_prediction"
   ]
  },
  {
   "cell_type": "code",
   "execution_count": 7,
   "metadata": {},
   "outputs": [
    {
     "name": "stdout",
     "output_type": "stream",
     "text": [
      "[[ 2.967779  17.986965 ]\n",
      " [ 2.484168  18.602314 ]\n",
      " [ 6.069951  10.1942835]\n",
      " ...\n",
      " [-1.378803  26.982056 ]\n",
      " [-1.982434  28.647224 ]\n",
      " [-1.8398259 28.309523 ]]\n"
     ]
    }
   ],
   "source": [
    "print(full_prediction)"
   ]
  },
  {
   "cell_type": "code",
   "execution_count": null,
   "metadata": {},
   "outputs": [],
   "source": []
  }
 ],
 "metadata": {
  "interpreter": {
   "hash": "0056d0e7c75f61a323f37d214e4c98f405f64f5a4b8940fb750fb4b612c3d8d4"
  },
  "kernelspec": {
   "display_name": "Python 3.7.3 64-bit ('base': conda)",
   "language": "python",
   "name": "python3"
  },
  "language_info": {
   "codemirror_mode": {
    "name": "ipython",
    "version": 3
   },
   "file_extension": ".py",
   "mimetype": "text/x-python",
   "name": "python",
   "nbconvert_exporter": "python",
   "pygments_lexer": "ipython3",
   "version": "3.7.3"
  },
  "orig_nbformat": 4
 },
 "nbformat": 4,
 "nbformat_minor": 2
}
