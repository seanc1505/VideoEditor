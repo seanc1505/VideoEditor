{
 "cells": [
  {
   "cell_type": "code",
   "execution_count": 3,
   "metadata": {},
   "outputs": [],
   "source": [
    "from PIL import Image\n",
    "import numpy as np\n",
    "import tensorflow as tf\n",
    "import glob\n",
    "\n",
    "data_path = \"./func_test/empty/\"\n",
    "\n",
    "filelist = glob.glob(data_path+'*.jpg')\n",
    "empty_data = np.empty((len(filelist),256,256,3))\n",
    "print(empty_data.shape)\n",
    "count = 0 \n",
    "\n",
    "for file_name in filelist:\n",
    "    temp_image = Image.open(file_name)\n",
    "    temp_image = temp_image.resize((256, 256))\n",
    "    temp_array = np.asarray(temp_image)\n",
    "    empty_data[count] = temp_array\n",
    "    count +=1\n",
    "\n",
    "from tensorflow import keras\n",
    "model = keras.models.load_model('model_22_01_11_notts_tuam')\n",
    "empty_prediction = model.predict(empty_data)\n"
   ]
  },
  {
   "cell_type": "code",
   "execution_count": null,
   "metadata": {},
   "outputs": [],
   "source": []
  }
 ],
 "metadata": {
  "interpreter": {
   "hash": "0056d0e7c75f61a323f37d214e4c98f405f64f5a4b8940fb750fb4b612c3d8d4"
  },
  "kernelspec": {
   "display_name": "Python 3.7.3 64-bit ('base': conda)",
   "language": "python",
   "name": "python3"
  },
  "language_info": {
   "codemirror_mode": {
    "name": "ipython",
    "version": 3
   },
   "file_extension": ".py",
   "mimetype": "text/x-python",
   "name": "python",
   "nbconvert_exporter": "python",
   "pygments_lexer": "ipython3",
   "version": "3.7.3"
  },
  "orig_nbformat": 4
 },
 "nbformat": 4,
 "nbformat_minor": 2
}
