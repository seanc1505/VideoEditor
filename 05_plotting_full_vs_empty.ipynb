{
 "cells": [
  {
   "cell_type": "code",
   "execution_count": null,
   "metadata": {},
   "outputs": [],
   "source": [
    "from PIL import Image\n",
    "import numpy as np\n",
    "import tensorflow as tf\n",
    "import glob\n",
    "\n",
    "data_path = \"./func_test/empty/\"\n",
    "\n",
    "filelist = glob.glob(data_path+'*.jpg')\n",
    "empty_data = np.empty((len(filelist),256,256,3))\n",
    "print(empty_data.shape)\n",
    "count = 0 \n",
    "\n",
    "for file_name in filelist:\n",
    "    temp_image = Image.open(file_name)\n",
    "    temp_image = temp_image.resize((256, 256))\n",
    "    temp_array = np.asarray(temp_image)\n",
    "    empty_data[count] = temp_array\n",
    "    count +=1\n",
    "\n",
    "from tensorflow import keras\n",
    "model = keras.models.load_model('model_22_01_11_notts_tuam')\n",
    "empty_prediction = model.predict(empty_data)\n"
   ]
  }
 ],
 "metadata": {
  "language_info": {
   "name": "python"
  },
  "orig_nbformat": 4
 },
 "nbformat": 4,
 "nbformat_minor": 2
}
