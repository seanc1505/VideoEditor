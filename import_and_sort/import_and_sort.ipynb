{
 "cells": [
  {
   "cell_type": "code",
   "execution_count": 2,
   "metadata": {},
   "outputs": [],
   "source": [
    "import os\n",
    "import datetime\n",
    "import shutil\n",
    "from tkinter import filedialog\n",
    "import os\n",
    "from tkinter import *\n",
    "\n"
   ]
  },
  {
   "cell_type": "code",
   "execution_count": 3,
   "metadata": {},
   "outputs": [],
   "source": [
    "# Basic funtionality first\n",
    "# Hard coding the import location\n",
    "# Hard coding the save location and altering the naming convention"
   ]
  },
  {
   "cell_type": "code",
   "execution_count": 43,
   "metadata": {},
   "outputs": [],
   "source": [
    "def importSort(source=\"\",save_location=\"\"):\n",
    "    \n",
    "    source = checkValidDirectory(source)\n",
    "    save_location = checkValidDirectory(save_location)\n",
    "\n",
    "    date_string_format = '%Y_%m_%d' #folder name format\n",
    "\n",
    "    file_list = os.listdir(source)\n",
    "\n",
    "    for file in file_list:\n",
    "        if file[-4:] == \".MP4\" or file[-4:] == \".mp4\":\n",
    "            source_file = source + file\n",
    "            # create/check destination folder is the date created\n",
    "            # Add a location argument in the future\n",
    "            utc_created_time = os.path.getmtime(source_file)\n",
    "            date_created = datetime.datetime.utcfromtimestamp(utc_created_time).strftime(date_string_format)\n",
    "            file_save_location = save_location + date_created\n",
    "            file_save_location = checkValidDirectory(file_save_location)\n",
    "            # Rename the file to GH<name><chapter>.mp4\n",
    "            if file[-7] != \"_\":\n",
    "                chapter = \"_\" + file[2:4]\n",
    "                updated_file_name = file[:2] + file[4:-4] +  chapter +\".mp4\"\n",
    "            else: \n",
    "                updated_file_name = file\n",
    "            new_file_location = file_save_location +\"/\"+ updated_file_name\n",
    "            print(\"Moving: \"+file)             \n",
    "            # Move file to new location\n",
    "            shutil.move(source_file, new_file_location)\n",
    "        elif file[-4:] == \".JPG\" or file[-4:] == \".jpg\":\n",
    "            pass\n",
    "        else:\n",
    "            # delete all non mp4 files \n",
    "            os.remove(source+file)\n"
   ]
  },
  {
   "cell_type": "code",
   "execution_count": 44,
   "metadata": {},
   "outputs": [],
   "source": [
    "\n"
   ]
  },
  {
   "cell_type": "markdown",
   "metadata": {},
   "source": []
  },
  {
   "cell_type": "code",
   "execution_count": 47,
   "metadata": {},
   "outputs": [],
   "source": [
    "\n",
    "file_source = \"F:/DCIM/100GOPRO/\"# File source\n",
    "base_save_location = \"D:/00_Videos/\"# File save destination\n",
    "importSort(file_source,base_save_location)\n"
   ]
  }
 ],
 "metadata": {
  "interpreter": {
   "hash": "0056d0e7c75f61a323f37d214e4c98f405f64f5a4b8940fb750fb4b612c3d8d4"
  },
  "kernelspec": {
   "display_name": "Python 3.7.3 ('base')",
   "language": "python",
   "name": "python3"
  },
  "language_info": {
   "codemirror_mode": {
    "name": "ipython",
    "version": 3
   },
   "file_extension": ".py",
   "mimetype": "text/x-python",
   "name": "python",
   "nbconvert_exporter": "python",
   "pygments_lexer": "ipython3",
   "version": "3.7.3"
  },
  "orig_nbformat": 4
 },
 "nbformat": 4,
 "nbformat_minor": 2
}
