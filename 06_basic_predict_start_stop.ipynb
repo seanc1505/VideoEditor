{
 "cells": [
  {
   "cell_type": "code",
   "execution_count": 1,
   "metadata": {},
   "outputs": [],
   "source": [
    "# Loading in packages\n",
    "from PIL import Image\n",
    "import numpy as np\n",
    "import tensorflow as tf\n",
    "import cv2\n",
    "from tensorflow import keras"
   ]
  },
  {
   "cell_type": "code",
   "execution_count": 26,
   "metadata": {},
   "outputs": [],
   "source": [
    "# Loading in video and variables\n",
    "class Edit:\n",
    "    def __init__(self,video_data_path):\n",
    "        self.video_data_path = video_data_path\n",
    "        self.vidcap = cv2.VideoCapture(self.video_data_path)\n",
    "        self.frame_count = int(self.vidcap.get(cv2.CAP_PROP_FRAME_COUNT))\n",
    "        self.current_frame = 0\n",
    "        self.start_frame = None\n",
    "        self.list_start_frame =[]\n",
    "        self.list_end_frame =[]\n",
    "        self.end_frame = None\n",
    "        self.end_video =False\n",
    "        self.fps = 60\n",
    "        # Loading in model\n",
    "        self.model = keras.models.load_model('model_22_01_11_notts_tuam')\n",
    "    \n",
    "    def read_frame(self,frame):\n",
    "        self.vidcap.set(1,frame)\n",
    "        ret, image = self.vidcap.read()\n",
    "        imageRGB = cv2.cvtColor(image, cv2.COLOR_BGR2RGB)\n",
    "        temp_image = Image.fromarray(imageRGB)\n",
    "        # temp_image = Image.open(\"temp.jpg\")\n",
    "        temp_image = temp_image.resize((256, 256))\n",
    "        temp_array = np.asarray(temp_image)\n",
    "        output = np.empty((1,256,256,3))\n",
    "        output[0] = temp_array\n",
    "        return output\n",
    "\n",
    "    def kayak_check(self,frame,start):\n",
    "        test_frame = self.read_frame(frame)\n",
    "        temp_predict = self.model.predict(test_frame)\n",
    "        current_predict = temp_predict[0,1]\n",
    "        if start:\n",
    "            if current_predict > 10:\n",
    "                return True, frame\n",
    "            elif current_predict <10 and current_predict > 5:\n",
    "                return False, (frame+1)\n",
    "            else: \n",
    "                return False, (frame+60)\n",
    "        else:\n",
    "            if current_predict > 10:\n",
    "                return False, (frame+60)\n",
    "            elif current_predict <10 and current_predict > 5:\n",
    "                return False, (frame+1)\n",
    "            else: \n",
    "                return True, frame\n"
   ]
  },
  {
   "cell_type": "code",
   "execution_count": 28,
   "metadata": {},
   "outputs": [
    {
     "name": "stdout",
     "output_type": "stream",
     "text": [
      "0\n",
      "270\n",
      "Start time:  0.0\n",
      "End time:  4.5\n",
      "1430\n",
      "3624\n",
      "Start time:  23.833333333333332\n",
      "End time:  60.4\n",
      "4004\n",
      "4334\n",
      "Start time:  66.73333333333333\n",
      "End time:  72.23333333333333\n",
      "4427\n",
      "4962\n",
      "Start time:  73.78333333333333\n",
      "End time:  82.7\n",
      "5182\n",
      "5540\n",
      "Start time:  86.36666666666666\n",
      "End time:  92.33333333333333\n",
      "5980\n",
      "7879\n",
      "Start time:  99.66666666666667\n",
      "End time:  131.31666666666666\n",
      "7907\n",
      "8117\n",
      "Start time:  131.78333333333333\n",
      "End time:  135.28333333333333\n",
      "9217\n",
      "10467\n",
      "Start time:  153.61666666666667\n",
      "End time:  174.45\n",
      "10869\n",
      "12314\n",
      "Start time:  181.15\n",
      "End time:  205.23333333333332\n",
      "12514\n",
      "14049\n",
      "Start time:  208.56666666666666\n",
      "End time:  234.15\n",
      "14969\n",
      "16388\n",
      "Start time:  249.48333333333332\n",
      "End time:  273.1333333333333\n",
      "16948\n",
      "18968\n",
      "Start time:  282.46666666666664\n",
      "End time:  316.1333333333333\n",
      "19528\n",
      "21265\n",
      "Start time:  325.46666666666664\n",
      "End time:  354.4166666666667\n",
      "None\n",
      "None\n"
     ]
    }
   ],
   "source": [
    "path_to_vid = './Video_source/Tuam_video_3.MP4'\n",
    "my_edit = Edit(path_to_vid)\n",
    "while not my_edit.end_video:\n",
    "    while my_edit.start_frame == None and  my_edit.end_video == False :\n",
    "        if my_edit.current_frame >= my_edit.frame_count:\n",
    "            my_edit.end_video = True\n",
    "        else:\n",
    "            start, my_edit.current_frame = my_edit.kayak_check(my_edit.current_frame,True)\n",
    "            if start:\n",
    "                my_edit.start_frame = my_edit.current_frame\n",
    "                my_edit.current_frame += 30\n",
    "    print(my_edit.start_frame)\n",
    "    count = 0\n",
    "    while my_edit.end_frame == None and  my_edit.end_video == False :\n",
    "        if my_edit.current_frame >= my_edit.frame_count:\n",
    "            my_edit.end_frame =my_edit.frame_count-1\n",
    "            my_edit.end_video = True\n",
    "            break\n",
    "        else:\n",
    "            end, my_edit.current_frame = my_edit.kayak_check(my_edit.current_frame,False)\n",
    "            if end:\n",
    "                count += 1\n",
    "                if count > 3:\n",
    "                    my_edit.end_frame = my_edit.current_frame\n",
    "                    end = False \n",
    "                my_edit.current_frame += 20\n",
    "\n",
    "    print(my_edit.end_frame)\n",
    "    \n",
    "    if my_edit.start_frame != None and my_edit.end_frame != None:\n",
    "        my_edit.list_start_frame.append(my_edit.start_frame)\n",
    "        my_edit.list_end_frame.append(my_edit.end_frame)\n",
    "        start_time = my_edit.start_frame/my_edit.fps\n",
    "        end_time = my_edit.end_frame/my_edit.fps\n",
    "        print('Start time: ',start_time)\n",
    "        print('End time: ',end_time)\n",
    "        my_edit.start_frame = None \n",
    "        my_edit.end_frame = None\n",
    "    else:\n",
    "        my_edit.end_video = True\n",
    "\n"
   ]
  },
  {
   "cell_type": "code",
   "execution_count": 47,
   "metadata": {},
   "outputs": [
    {
     "name": "stdout",
     "output_type": "stream",
     "text": [
      "Start_time = 0:0.0    End_time = 0:4.5\n",
      "Start_time = 0:23.83    End_time = 1:0.4\n",
      "Start_time = 1:6.73    End_time = 1:12.23\n",
      "Start_time = 1:13.78    End_time = 1:22.7\n",
      "Start_time = 1:26.37    End_time = 1:32.33\n",
      "Start_time = 1:39.67    End_time = 2:11.32\n",
      "Start_time = 2:11.78    End_time = 2:15.28\n",
      "Start_time = 2:33.62    End_time = 2:54.45\n",
      "Start_time = 3:1.15    End_time = 3:25.23\n",
      "Start_time = 3:28.57    End_time = 3:54.15\n",
      "Start_time = 4:9.48    End_time = 4:33.13\n",
      "Start_time = 4:42.47    End_time = 5:16.13\n",
      "Start_time = 5:25.47    End_time = 5:54.42\n"
     ]
    }
   ],
   "source": [
    "# my_edit.frame_count\n",
    "import math\n",
    "my_edit.list_start_frame\n",
    "list_start_time = []\n",
    "list_end_time = []\n",
    "\n",
    "for time in my_edit.list_start_frame:\n",
    "    list_start_time.append(time/my_edit.fps)\n",
    "for time in my_edit.list_end_frame:\n",
    "    list_end_time.append(time/my_edit.fps)\n",
    "\n",
    "for item in range(len(list_start_time)):\n",
    "    print('Start_time = '+str(math.floor(list_start_time[item]/60)) + ':' + str(round(((list_start_time[item]) % 60),2)) +'    End_time = ' +str(math.floor(list_end_time[item]/60)) + ':' + str(round(((list_end_time[item]) % 60),2)))"
   ]
  },
  {
   "cell_type": "code",
   "execution_count": 6,
   "metadata": {},
   "outputs": [],
   "source": [
    "# from PIL import Image\n",
    "# from matplotlib import cm\n",
    "# path = './Video_source/func_test_02_mix.mp4'\n",
    "# vid = cv2.VideoCapture(path)\n",
    "# t , pic = vid.read()\n",
    "# # im = Image.fromarray(np.uint8(cm.gist_earth(pic)*255))\n",
    "# # pic.shape\n",
    "# imageRGB = cv2.cvtColor(pic, cv2.COLOR_BGR2RGB)\n",
    "# im = Image.fromarray(imageRGB)\n",
    "# # im = Image.fromarray(pic,mode=\"RGBa\")\n",
    "# im"
   ]
  },
  {
   "cell_type": "code",
   "execution_count": 42,
   "metadata": {},
   "outputs": [
    {
     "data": {
      "text/plain": [
       "23.83"
      ]
     },
     "execution_count": 42,
     "metadata": {},
     "output_type": "execute_result"
    }
   ],
   "source": [
    "round(((list_start_time[1]) % 60),2)"
   ]
  },
  {
   "cell_type": "code",
   "execution_count": null,
   "metadata": {},
   "outputs": [],
   "source": []
  }
 ],
 "metadata": {
  "interpreter": {
   "hash": "0056d0e7c75f61a323f37d214e4c98f405f64f5a4b8940fb750fb4b612c3d8d4"
  },
  "kernelspec": {
   "display_name": "Python 3.7.3 64-bit ('base': conda)",
   "language": "python",
   "name": "python3"
  },
  "language_info": {
   "codemirror_mode": {
    "name": "ipython",
    "version": 3
   },
   "file_extension": ".py",
   "mimetype": "text/x-python",
   "name": "python",
   "nbconvert_exporter": "python",
   "pygments_lexer": "ipython3",
   "version": "3.7.3"
  },
  "orig_nbformat": 4
 },
 "nbformat": 4,
 "nbformat_minor": 2
}
